{
 "cells": [
  {
   "cell_type": "code",
   "execution_count": null,
   "metadata": {
    "collapsed": true
   },
   "outputs": [],
   "source": [
    "import requests\n",
    "import bs4\n",
    "import time\n",
    "import traceback"
   ]
  },
  {
   "cell_type": "code",
   "execution_count": null,
   "metadata": {
    "collapsed": true
   },
   "outputs": [],
   "source": [
    "#查询地址，从浏览器复制\n",
    "url = 'http://www.bjguahao.gov.cn/dpt/appoint/133-200001351.htm?week=1&relType=0&sdFirstId=0&sdSecondId=0'  \n",
    "refresh_cd = 1  # 重试间隔 (秒)\n",
    "sess = requests.Session()\n",
    "\n",
    "cnt = 0\n",
    "while True:\n",
    "    try:\n",
    "        rst = sess.get(url)\n",
    "        rst.encoding='utf-8'\n",
    "        rst_text = rst.text\n",
    "        soup = bs4.BeautifulSoup(rst_text, 'html.parser')\n",
    "    \n",
    "    \n",
    "        tds = soup.select('.ksorder_cen_l_t_c table tr:nth-of-type(2) td')\n",
    "\n",
    "        for td in tds:\n",
    "            status = td.text.strip()\n",
    "            date = td.select('input')[0].attrs['value'].split('_')[2]\n",
    "\n",
    "            if status is not None and status != '' and status != '约满':\n",
    "                break\n",
    "                \n",
    "        if status is not None and status != '' and status != '约满':\n",
    "            print(status, date)\n",
    "            break\n",
    "        else:\n",
    "            cnt += 1\n",
    "            if cnt % 10 == 1:\n",
    "                print('retries:', cnt)\n",
    "            time.sleep(refresh_cd)\n",
    "            \n",
    "    except KeyboardInterrupt:\n",
    "        break\n",
    "    except:\n",
    "        traceback.print_exc()\n",
    "        sess.close()\n",
    "        sess = requests.Session()\n",
    "    "
   ]
  }
 ],
 "metadata": {
  "kernelspec": {
   "display_name": "Python 3",
   "language": "python",
   "name": "python3"
  },
  "language_info": {
   "codemirror_mode": {
    "name": "ipython",
    "version": 3
   },
   "file_extension": ".py",
   "mimetype": "text/x-python",
   "name": "python",
   "nbconvert_exporter": "python",
   "pygments_lexer": "ipython3",
   "version": "3.6.3"
  }
 },
 "nbformat": 4,
 "nbformat_minor": 2
}
